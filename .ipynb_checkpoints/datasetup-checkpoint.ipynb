{
 "cells": [
  {
   "cell_type": "code",
   "execution_count": 126,
   "id": "7c9bfac9-7203-493c-9c44-ef7788270afe",
   "metadata": {},
   "outputs": [],
   "source": [
    "import torch\n",
    "import torchvision\n",
    "from torch.utils.data import Dataset, DataLoader\n",
    "from torch.utils.data import random_split\n",
    "import matplotlib.pyplot as plt\n",
    "import numpy as np \n",
    "import math \n",
    "import os\n",
    "import csv\n",
    "import pandas as pd\n",
    "from PIL import Image\n",
    "from torchvision.io import read_image\n",
    "import torchvision.transforms as transforms"
   ]
  },
  {
   "cell_type": "code",
   "execution_count": 60,
   "id": "81efecba-52b9-4d50-aacf-9599b47cdac6",
   "metadata": {},
   "outputs": [
    {
     "name": "stdout",
     "output_type": "stream",
     "text": [
      "Using: cuda\n"
     ]
    }
   ],
   "source": [
    "device = torch.device('cuda' if torch.cuda.is_available() else 'cpu')\n",
    "print('Using:', device)"
   ]
  },
  {
   "cell_type": "code",
   "execution_count": 75,
   "id": "2dce1d56-b0f7-473d-bf63-b09d857e7118",
   "metadata": {},
   "outputs": [],
   "source": [
    "# Automating the generation of a csv file with all directories, image names and their lables\n",
    "# ---directory----image_name----binary_category----category\n",
    "\n",
    "with open('./lables.csv', 'w') as file:\n",
    "    writer = csv.writer(file)\n",
    "    writer.writerow([\"directory\", \"image_name\", \"binary_cat\", \"multi_cat\"])\n",
    "    \n",
    "    categories = {\n",
    "        \"healthy\": 0,\n",
    "        \"unhealthy\" : 1,\n",
    "        \"Anthracnose\" : 2,\n",
    "        \"Bacterial Blight\": 3,\n",
    "        \"Black Spot\": 4,\n",
    "        \"Citrus Canker\": 5, \n",
    "        \"Citrus Hindu Mite\":6,\n",
    "        \"Citrus Leafminer\":7,\n",
    "        \"Curl Leaf\":8,\n",
    "        \"Deficiency\":9,\n",
    "        \"Dry Leaf\":10,\n",
    "        \"Greening\":11,\n",
    "        \"Melanose\":12,\n",
    "        \"Sooty Mould\":13,\n",
    "        \"Spider Mites\":14 \n",
    "    }\n",
    "    \n",
    "    for path, subdirs, files in os.walk('./dataset'):\n",
    "        if \"./dataset/healthy\" in path:\n",
    "            for img in files:\n",
    "                writer.writerow([path, img, categories[\"healthy\"], categories[\"healthy\"]])\n",
    "        if \"./dataset/unhealthy\" in path:\n",
    "            for img in files:\n",
    "                # path[20:] cut out the unnecessary directory snince we only needthe diseasw name, which is the latter part of the directory\n",
    "                multi = path[20:]\n",
    "                writer.writerow([path, img, categories[\"unhealthy\"], categories[multi]])\n",
    "\n",
    "f.close()"
   ]
  },
  {
   "cell_type": "code",
   "execution_count": 114,
   "id": "c4dcb9eb-0561-46f0-a56b-f076eb93d4f9",
   "metadata": {},
   "outputs": [],
   "source": [
    "class CitrusImageDataset(Dataset):\n",
    "    \"\"\"\n",
    "    A custom dataset class for Citrus leaf image dataset.\n",
    "    - Resizes images to a specified width and height. \n",
    "    - Imaplements methods to get dataset items and dataset length (as reccomended by pytorch documentation)\n",
    "    - Adds an argument for common transformation for the image dataset\n",
    "\n",
    "    Args:\n",
    "        annotations_file: takes in the cvs file that contains lables of images \n",
    "        img_dir: direcotry in which images are stored\n",
    "        transform: to modify the features, needed to manipulate data to make it suitable for training\n",
    "        target_transform: to modify the labels - that accept callables containing the transformation logic\n",
    "        \n",
    "    \"\"\"\n",
    "    def __init__(self, annotations_file, img_dir, transform=None, target_transform=None):\n",
    "        self.img_labels = pd.read_csv(annotations_file)\n",
    "        self.directory_list = img_dir\n",
    "        self.data_paths = []\n",
    "        self.transform = transform\n",
    "        self.target_transform = target_transform\n",
    "\n",
    "        for directory in img_dir: # healthy or unhealthy dirs \n",
    "            for filename in os.listdir(directory):\n",
    "                if \".jpg\" in filename:\n",
    "                    self.data_paths.append(os.path.join(directory, filename))\n",
    "                    #print(\"dircoties:\" + os.path.join(directory, filename))\n",
    "                else:\n",
    "                    for f in os.listdir(\"./dataset/unhealthy/\"): # since unhealthy folder has subfolders with images\n",
    "                        path = os.path.join(\"./dataset/unhealthy/\", f)\n",
    "                        for ff in os.listdir(path):\n",
    "                            self.data_paths.append(os.path.join(path, ff))\n",
    "                            #print(\"dircoties:\" + os.path.join(path, ff))\n",
    "        \n",
    "        \n",
    "\n",
    "    def __len__(self):\n",
    "        return len(self.data_paths)\n",
    "\n",
    "    def __getitem__(self, idx):\n",
    "        data_path = self.data_paths[idx]\n",
    "        image = Image.open(data_path)\n",
    "        binary_label = self.img_labels.iloc[idx, 2]\n",
    "        multi_cat_label = self.img_labels.iloc[idx, -1]\n",
    "        \n",
    "        if self.transform:\n",
    "            image = self.transform(image)\n",
    "        return image, binary_label, multi_cat_label"
   ]
  },
  {
   "cell_type": "code",
   "execution_count": 124,
   "id": "bcb762c9-f27e-4da0-bf01-49f7d5d62c42",
   "metadata": {},
   "outputs": [],
   "source": [
    "# Defining transformations - using industry standard, can try to customize later\n",
    "\"\"\"\n",
    "Normalize does: image = (image - mean)/std;  mean for all 3 channels: [0.485, 0.456, 0.406], std for all 3 channels: [0.229, 0.224, 0.225] \n",
    "\"\"\"\n",
    "img_transforms = transforms.Compose([\n",
    "                transforms.ToTensor(),\n",
    "                transforms.Resize((224,224)),\n",
    "                transforms.Normalize([0.485, 0.456, 0.406], [0.229, 0.224, 0.225]) # ImageNet's mean and std\n",
    "])\n",
    "labels_dir = \"./lables.csv\"\n",
    "img_dir = [\"./dataset/healthy\", \"./dataset/unhealthy\"]\n",
    "dataset = CitrusImageDataset(labels_dir, img_dir, img_transforms)\n",
    "#print(len(dataset))\n"
   ]
  },
  {
   "cell_type": "code",
   "execution_count": 129,
   "id": "0290f81b-a4f4-4fed-860d-76ec8d080943",
   "metadata": {},
   "outputs": [],
   "source": [
    "batch_size = 100\n",
    "val_size = 2000\n",
    "train_size = 38000\n",
    "test_size = 3017\n",
    "train_data, test_data, val_data = random_split(dataset, [train_size,test_size, val_size])\n",
    "train_dl = DataLoader(train_data, batch_size, shuffle = True, num_workers = 4, pin_memory = True)\n",
    "val_dl = DataLoader(val_data, batch_size*2, num_workers = 4, pin_memory = True)"
   ]
  },
  {
   "cell_type": "code",
   "execution_count": null,
   "id": "1550ee9d-4051-4961-87c8-1adef43888ff",
   "metadata": {},
   "outputs": [],
   "source": []
  }
 ],
 "metadata": {
  "kernelspec": {
   "display_name": "Python 3 (ipykernel)",
   "language": "python",
   "name": "python3"
  },
  "language_info": {
   "codemirror_mode": {
    "name": "ipython",
    "version": 3
   },
   "file_extension": ".py",
   "mimetype": "text/x-python",
   "name": "python",
   "nbconvert_exporter": "python",
   "pygments_lexer": "ipython3",
   "version": "3.11.9"
  }
 },
 "nbformat": 4,
 "nbformat_minor": 5
}
