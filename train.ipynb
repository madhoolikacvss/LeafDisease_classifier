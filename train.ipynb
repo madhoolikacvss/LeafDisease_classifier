{
 "cells": [
  {
   "cell_type": "code",
   "execution_count": 4,
   "id": "6e69341a-8c6e-4514-a98a-cdd1247a4f0e",
   "metadata": {},
   "outputs": [
    {
     "ename": "ModuleNotFoundError",
     "evalue": "No module named 'basic_cnn'",
     "output_type": "error",
     "traceback": [
      "\u001b[0;31m---------------------------------------------------------------------------\u001b[0m",
      "\u001b[0;31mModuleNotFoundError\u001b[0m                       Traceback (most recent call last)",
      "Cell \u001b[0;32mIn[4], line 1\u001b[0m\n\u001b[0;32m----> 1\u001b[0m \u001b[38;5;28;01mfrom\u001b[39;00m \u001b[38;5;21;01mbasic_cnn\u001b[39;00m \u001b[38;5;28;01mimport\u001b[39;00m \u001b[38;5;241m*\u001b[39m\n\u001b[1;32m      2\u001b[0m \u001b[38;5;28;01mimport\u001b[39;00m \u001b[38;5;21;01mtime\u001b[39;00m\n\u001b[1;32m      3\u001b[0m \u001b[38;5;28;01mfrom\u001b[39;00m \u001b[38;5;21;01mtorch\u001b[39;00m\u001b[38;5;21;01m.\u001b[39;00m\u001b[38;5;21;01mutils\u001b[39;00m\u001b[38;5;21;01m.\u001b[39;00m\u001b[38;5;21;01mdata\u001b[39;00m \u001b[38;5;28;01mimport\u001b[39;00m DataLoader\n",
      "\u001b[0;31mModuleNotFoundError\u001b[0m: No module named 'basic_cnn'"
     ]
    }
   ],
   "source": [
    "from basic_cnn import *\n",
    "import time\n",
    "from torch.utils.data import DataLoader\n",
    "import torch\n",
    "import torchvision.transforms as standard_transforms\n",
    "import util\n",
    "import numpy as np\n",
    "import multiprocessing\n",
    "import matplotlib.pyplot as plt\n",
    "\n"
   ]
  },
  {
   "cell_type": "code",
   "execution_count": null,
   "id": "d7bf7f8e-1be9-4497-9518-7730a5b92e76",
   "metadata": {},
   "outputs": [],
   "source": [
    "def Train(epoch, print_every=50):\n",
    "    total_loss = 0\n",
    "    start_time = time()\n",
    "    \n",
    "    accuracy = []\n",
    "    \n",
    "    for i, batch in enumerate(train_dataloader, 1):\n",
    "        minput = batch[0].to(device) # Get batch of images from our train dataloader\n",
    "        target = batch[1].to(device) # Get the corresponding target(0, 1 or 2) representing cats, dogs or pandas\n",
    "        \n",
    "        moutput = model(minput) # output by our model\n",
    "        \n",
    "        loss = criterion(moutput, target) # compute cross entropy loss\n",
    "        total_loss += loss.item()\n",
    "\n",
    "        optimizer.zero_grad() # Clear the gradients if exists. (Gradients are used for back-propogation.)\n",
    "        loss.backward() # Back propogate the losses\n",
    "        optimizer.step() # Update Model parameters\n",
    "        \n",
    "        argmax = moutput.argmax(dim=1) # Get the class index with maximum probability predicted by the model\n",
    "        accuracy.append((target==argmax).sum().item() / target.shape[0]) # calculate accuracy by comparing to target tensor\n",
    "\n",
    "        if i%print_every == 0:\n",
    "            print('Epoch: [{}]/({}/{}), Train Loss: {:.4f}, Accuracy: {:.2f}, Time: {:.2f} sec'.format(\n",
    "                epoch, i, len(train_dataloader), loss.item(), sum(accuracy)/len(accuracy), time()-start_time \n",
    "            ))\n",
    "    \n",
    "    return total_loss / len(train_dataloader) # Returning Average Training Loss"
   ]
  },
  {
   "cell_type": "code",
   "execution_count": null,
   "id": "b03a6ab7-45e8-44a4-ade5-c5df33af2edf",
   "metadata": {},
   "outputs": [],
   "source": [
    "##TESTING\n",
    "\n",
    "def Test(epoch):\n",
    "    total_loss = 0\n",
    "    start_time = time()\n",
    "\n",
    "    accuracy = []\n",
    "    \n",
    "    with torch.no_grad(): # disable calculations of gradients for all pytorch operations inside the block\n",
    "        for i, batch in enumerate(test_dataloader):\n",
    "            minput = batch[0].to(device) # Get batch of images from our test dataloader\n",
    "            target = batch[1].to(device) # Get the corresponding target(0, 1 or 2) representing cats, dogs or pandas\n",
    "            moutput = model(minput) # output by our model\n",
    "\n",
    "            loss = criterion(moutput, target) # compute cross entropy loss\n",
    "            total_loss += loss.item()\n",
    "            \n",
    "            \n",
    "            # To get the probabilities for different classes we need to apply a softmax operation on moutput \n",
    "            argmax = moutput.argmax(dim=1) # Find the index(0, 1 or 2) with maximum score (which denotes class with maximum probability)\n",
    "            accuracy.append((target==argmax).sum().item() / target.shape[0]) # Find the accuracy of the batch by comparing it with actual targets\n",
    "            \n",
    "    print('Epoch: [{}], Test Loss: {:.4f}, Accuracy: {:.2f}, Time: {:.2f} sec'.format(\n",
    "        epoch, total_loss/len(test_dataloader), sum(accuracy)/len(accuracy), time()-start_time\n",
    "    ))\n",
    "    return total_loss/len(test_dataloader) # Returning Average Testing Loss"
   ]
  }
 ],
 "metadata": {
  "kernelspec": {
   "display_name": "Python 3 (ipykernel)",
   "language": "python",
   "name": "python3"
  },
  "language_info": {
   "codemirror_mode": {
    "name": "ipython",
    "version": 3
   },
   "file_extension": ".py",
   "mimetype": "text/x-python",
   "name": "python",
   "nbconvert_exporter": "python",
   "pygments_lexer": "ipython3",
   "version": "3.11.9"
  }
 },
 "nbformat": 4,
 "nbformat_minor": 5
}
