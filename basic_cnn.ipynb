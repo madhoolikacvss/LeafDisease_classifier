{
 "cells": [
  {
   "cell_type": "code",
   "execution_count": 1,
   "id": "e7c94d98-9618-401a-94d2-dcab9fb998e6",
   "metadata": {},
   "outputs": [],
   "source": [
    "import torch.nn as nn"
   ]
  },
  {
   "cell_type": "code",
   "execution_count": 4,
   "id": "d60b8af6-0107-4115-837e-f335e09d52ba",
   "metadata": {},
   "outputs": [],
   "source": [
    "class basic_cnn(nn.Module):\n",
    "    def __init__(self, n_class):\n",
    "        super().__init__()\n",
    "        self.n_class = n_class\n",
    "        self.model = nn.Sequential(\n",
    "            nn.Conv2d(3, 16, kernel_size=3), nn.ReLU(),\n",
    "            nn.Conv2d(16, 16, kernel_size=3), nn.ReLU(),\n",
    "            nn.MaxPool2d(2,2),\n",
    "\n",
    "            nn.Conv2d(16, 32, kernel_size=3), nn.ReLU(),\n",
    "            nn.Conv2d(32, 32, kernel_size=3), nn.ReLU(),\n",
    "            nn.MaxPool2d(2,2),\n",
    "\n",
    "            nn.Conv2d(32, 64, kernel_size=3), nn.ReLU(),\n",
    "            nn.Conv2d(64, 64, kernel_size=3), nn.ReLU(),\n",
    "            nn.MaxPool2d(2,2),\n",
    "\n",
    "            nn.Conv2d(64, 128, kernel_size=3), nn.ReLU(),\n",
    "            nn.Conv2d(128, 128, kernel_size=3), nn.ReLU(),\n",
    "            nn.MaxPool2d(2,2),\n",
    "\n",
    "            nn.Conv2d(128, 256, kernel_size=3), nn.ReLU(),\n",
    "            nn.Conv2d(256, 256, kernel_size=3), nn.ReLU(),\n",
    "            nn.MaxPool2d(2,2),\n",
    "\n",
    "        ).to(device)\n",
    "\n",
    "        self.classifier = nn.Sequential(\n",
    "            nn.Flatten(),\n",
    "            nn.Dropout(0.25),\n",
    "            nn.Linear(4096, 256),\n",
    "            nn.ReLU(),\n",
    "\n",
    "            nn.Dropout(0.5),\n",
    "            nn.Linear(256, 10)\n",
    "        ).to(device)\n",
    "\n",
    "    def forward(self, x):\n",
    "        x = self.model(x)\n",
    "        x = self.classifier(x)\n",
    "        return x\n",
    "\n",
    "\n"
   ]
  },
  {
   "cell_type": "code",
   "execution_count": null,
   "id": "41672306-db0d-4517-a19d-69718ddd7865",
   "metadata": {},
   "outputs": [],
   "source": []
  }
 ],
 "metadata": {
  "kernelspec": {
   "display_name": "Python 3 (ipykernel)",
   "language": "python",
   "name": "python3"
  },
  "language_info": {
   "codemirror_mode": {
    "name": "ipython",
    "version": 3
   },
   "file_extension": ".py",
   "mimetype": "text/x-python",
   "name": "python",
   "nbconvert_exporter": "python",
   "pygments_lexer": "ipython3",
   "version": "3.11.9"
  }
 },
 "nbformat": 4,
 "nbformat_minor": 5
}
