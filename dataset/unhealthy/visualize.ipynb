{
 "cells": [
  {
   "cell_type": "code",
   "execution_count": null,
   "id": "ecf409e7-3633-4ec6-adf1-023be1af8611",
   "metadata": {},
   "outputs": [],
   "source": [
    "## VISUALIZATION OF THE BATCHES "
   ]
  },
  {
   "cell_type": "code",
   "execution_count": 1,
   "id": "3f17c0ee-951e-46e9-9adb-dd37555179cd",
   "metadata": {},
   "outputs": [],
   "source": [
    "from torchvision.utils import make_grid\n",
    "\n"
   ]
  },
  {
   "cell_type": "code",
   "execution_count": null,
   "id": "31098889-aed6-44e1-ac33-b7881a41b752",
   "metadata": {},
   "outputs": [],
   "source": []
  }
 ],
 "metadata": {
  "kernelspec": {
   "display_name": "Python 3 (ipykernel)",
   "language": "python",
   "name": "python3"
  },
  "language_info": {
   "codemirror_mode": {
    "name": "ipython",
    "version": 3
   },
   "file_extension": ".py",
   "mimetype": "text/x-python",
   "name": "python",
   "nbconvert_exporter": "python",
   "pygments_lexer": "ipython3",
   "version": "3.11.9"
  }
 },
 "nbformat": 4,
 "nbformat_minor": 5
}
